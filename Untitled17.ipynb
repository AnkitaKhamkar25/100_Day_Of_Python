{
  "nbformat": 4,
  "nbformat_minor": 0,
  "metadata": {
    "colab": {
      "provenance": [],
      "authorship_tag": "ABX9TyOGt1APiWfP7ngpDUqOjL68",
      "include_colab_link": true
    },
    "kernelspec": {
      "name": "python3",
      "display_name": "Python 3"
    },
    "language_info": {
      "name": "python"
    }
  },
  "cells": [
    {
      "cell_type": "markdown",
      "metadata": {
        "id": "view-in-github",
        "colab_type": "text"
      },
      "source": [
        "<a href=\"https://colab.research.google.com/github/AnkitaKhamkar25/100_Day_Of_Python/blob/main/Untitled17.ipynb\" target=\"_parent\"><img src=\"https://colab.research.google.com/assets/colab-badge.svg\" alt=\"Open In Colab\"/></a>"
      ]
    },
    {
      "cell_type": "code",
      "execution_count": 1,
      "metadata": {
        "colab": {
          "base_uri": "https://localhost:8080/"
        },
        "id": "329x0y0pGn19",
        "outputId": "4b8d3cc9-4ea8-4300-f40a-17b9cf25394e"
      },
      "outputs": [
        {
          "output_type": "stream",
          "name": "stdout",
          "text": [
            "Hhyy\n"
          ]
        }
      ],
      "source": [
        "print(\"Hhyy\")"
      ]
    },
    {
      "cell_type": "code",
      "source": [],
      "metadata": {
        "id": "yzSTjz5WHiOb"
      },
      "execution_count": null,
      "outputs": []
    },
    {
      "cell_type": "markdown",
      "source": [
        "first coding day"
      ],
      "metadata": {
        "id": "dbjNFvY2IDh9"
      }
    },
    {
      "cell_type": "code",
      "source": [],
      "metadata": {
        "id": "gDAefum0IGEa"
      },
      "execution_count": null,
      "outputs": []
    }
  ]
}